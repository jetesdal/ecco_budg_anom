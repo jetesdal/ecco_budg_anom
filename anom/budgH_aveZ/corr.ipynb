{
 "cells": [
  {
   "cell_type": "code",
   "execution_count": 1,
   "metadata": {},
   "outputs": [],
   "source": [
    "import numpy as np\n",
    "import xarray as xr\n",
    "import dask"
   ]
  },
  {
   "cell_type": "markdown",
   "metadata": {},
   "source": [
    "### Load dataset"
   ]
  },
  {
   "cell_type": "code",
   "execution_count": 2,
   "metadata": {},
   "outputs": [],
   "source": [
    "# Tendencies\n",
    "#ds_budg = xr.open_zarr('/rigel/ocp/users/jt2796/eccov4r3_datasets/anom/budgH_aveZ/0700m/')"
   ]
  },
  {
   "cell_type": "raw",
   "metadata": {},
   "source": [
    "# Integrated\n",
    "ds_budg = xr.open_zarr('/rigel/ocp/users/jt2796/eccov4r3_datasets/anom/budgH_aveZ/intT/0700m/')"
   ]
  },
  {
   "cell_type": "code",
   "execution_count": 2,
   "metadata": {},
   "outputs": [],
   "source": [
    "# Integrated+Detrended\n",
    "ds_budg = xr.open_zarr('/rigel/ocp/users/jt2796/eccov4r3_datasets/anom/budgH_aveZ/intT/dtr/0300m/')"
   ]
  },
  {
   "cell_type": "code",
   "execution_count": 3,
   "metadata": {},
   "outputs": [],
   "source": [
    "# Add vertical and horizontal component for diffusion and the nonlinear advection term\n",
    "ds_budg['dif'] = ds_budg.hdif + ds_budg.vdif\n",
    "ds_budg['adv_Uanom_Tanom'] = ds_budg.hadv_Uanom_Tanom + ds_budg.vadv_Uanom_Tanom"
   ]
  },
  {
   "cell_type": "code",
   "execution_count": 4,
   "metadata": {},
   "outputs": [
    {
     "data": {
      "text/plain": [
       "<xarray.Dataset>\n",
       "Dimensions:           (face: 13, i: 90, j: 90, time: 286)\n",
       "Coordinates:\n",
       "  * face              (face) int64 0 1 2 3 4 5 6 7 8 9 10 11 12\n",
       "  * i                 (i) int64 0 1 2 3 4 5 6 7 8 9 10 11 12 13 14 15 16 17 ...\n",
       "  * j                 (j) int64 0 1 2 3 4 5 6 7 8 9 10 11 12 13 14 15 16 17 ...\n",
       "  * time              (time) datetime64[ns] 1992-02-13 1992-03-15 1992-04-14 ...\n",
       "Data variables:\n",
       "    frc               (time, face, j, i) float64 dask.array<shape=(286, 13, 90, 90), chunksize=(286, 1, 90, 90)>\n",
       "    hadv_Uanom_Tanom  (time, face, j, i) float64 dask.array<shape=(286, 13, 90, 90), chunksize=(286, 1, 90, 90)>\n",
       "    hadv_Uanom_Tclim  (time, face, j, i) float64 dask.array<shape=(286, 13, 90, 90), chunksize=(286, 1, 90, 90)>\n",
       "    hadv_Uclim_Tanom  (time, face, j, i) float64 dask.array<shape=(286, 13, 90, 90), chunksize=(286, 1, 90, 90)>\n",
       "    hdif              (time, face, j, i) float64 dask.array<shape=(286, 13, 90, 90), chunksize=(286, 1, 90, 90)>\n",
       "    res               (time, face, j, i) float64 dask.array<shape=(286, 13, 90, 90), chunksize=(286, 1, 90, 90)>\n",
       "    tnd               (time, face, j, i) float64 dask.array<shape=(286, 13, 90, 90), chunksize=(286, 1, 90, 90)>\n",
       "    vadv_Uanom_Tanom  (time, face, j, i) float64 dask.array<shape=(286, 13, 90, 90), chunksize=(286, 1, 90, 90)>\n",
       "    vadv_Uanom_Tclim  (time, face, j, i) float64 dask.array<shape=(286, 13, 90, 90), chunksize=(286, 1, 90, 90)>\n",
       "    vadv_Uclim_Tanom  (time, face, j, i) float64 dask.array<shape=(286, 13, 90, 90), chunksize=(286, 1, 90, 90)>\n",
       "    vdif              (time, face, j, i) float64 dask.array<shape=(286, 13, 90, 90), chunksize=(286, 1, 90, 90)>\n",
       "    dif               (time, face, j, i) float64 dask.array<shape=(286, 13, 90, 90), chunksize=(286, 1, 90, 90)>\n",
       "    adv_Uanom_Tanom   (time, face, j, i) float64 dask.array<shape=(286, 13, 90, 90), chunksize=(286, 1, 90, 90)>"
      ]
     },
     "execution_count": 4,
     "metadata": {},
     "output_type": "execute_result"
    }
   ],
   "source": [
    "ds_budg"
   ]
  },
  {
   "cell_type": "markdown",
   "metadata": {},
   "source": [
    "### Define function to get ratio of covariance over variance"
   ]
  },
  {
   "cell_type": "code",
   "execution_count": 5,
   "metadata": {},
   "outputs": [],
   "source": [
    "def get_cov_ratio(x,y):\n",
    "    y_var = np.var(y[0,0,0],ddof=1)\n",
    "    cov = np.cov(x[0,0,0], y[0,0,0])[0][1]\n",
    "    cov_ratio = (cov/y_var)\n",
    "    return cov_ratio.reshape(1,1,1)"
   ]
  },
  {
   "cell_type": "code",
   "execution_count": 6,
   "metadata": {},
   "outputs": [],
   "source": [
    "ds = xr.Dataset(data_vars={})\n",
    "\n",
    "# Define y (total tendency)\n",
    "y = ds_budg.tnd.isel(time=slice(1, -1)).transpose('face','j','i','time').chunk(chunks=(1,1,1,-1))\n",
    "\n",
    "for varname in ds_budg.data_vars:\n",
    "    if (varname == 'tnd' or varname == 'vdif' or varname == 'hdif' \\\n",
    "        or varname == 'hadv_Uanom_Tanom' or varname == 'vadv_Uanom_Tanom'):\n",
    "        continue\n",
    "        \n",
    "    # Define x (Anomaly budget terms)\n",
    "    x = ds_budg[varname].isel(time=slice(1, -1)).transpose('face','j','i','time').chunk(chunks=(1,1,1,-1))\n",
    "    \n",
    "    # Map function across all blocks of a dask array\n",
    "    cov_ratio = dask.array.map_blocks(get_cov_ratio, x.data, y.data, dtype=np.float64, drop_axis=3)\n",
    "    \n",
    "    # Save to dataset\n",
    "    ds[varname] = xr.DataArray(cov_ratio,coords=[ds_budg.face,ds_budg.j,ds_budg.i],dims=['face','j','i'])"
   ]
  },
  {
   "cell_type": "code",
   "execution_count": 7,
   "metadata": {},
   "outputs": [
    {
     "data": {
      "text/plain": [
       "<xarray.Dataset>\n",
       "Dimensions:           (face: 13, i: 90, j: 90)\n",
       "Coordinates:\n",
       "  * face              (face) int64 0 1 2 3 4 5 6 7 8 9 10 11 12\n",
       "  * j                 (j) int64 0 1 2 3 4 5 6 7 8 9 10 11 12 13 14 15 16 17 ...\n",
       "  * i                 (i) int64 0 1 2 3 4 5 6 7 8 9 10 11 12 13 14 15 16 17 ...\n",
       "Data variables:\n",
       "    frc               (face, j, i) float64 dask.array<shape=(13, 90, 90), chunksize=(1, 1, 1)>\n",
       "    hadv_Uanom_Tclim  (face, j, i) float64 dask.array<shape=(13, 90, 90), chunksize=(1, 1, 1)>\n",
       "    hadv_Uclim_Tanom  (face, j, i) float64 dask.array<shape=(13, 90, 90), chunksize=(1, 1, 1)>\n",
       "    res               (face, j, i) float64 dask.array<shape=(13, 90, 90), chunksize=(1, 1, 1)>\n",
       "    vadv_Uanom_Tclim  (face, j, i) float64 dask.array<shape=(13, 90, 90), chunksize=(1, 1, 1)>\n",
       "    vadv_Uclim_Tanom  (face, j, i) float64 dask.array<shape=(13, 90, 90), chunksize=(1, 1, 1)>\n",
       "    dif               (face, j, i) float64 dask.array<shape=(13, 90, 90), chunksize=(1, 1, 1)>\n",
       "    adv_Uanom_Tanom   (face, j, i) float64 dask.array<shape=(13, 90, 90), chunksize=(1, 1, 1)>"
      ]
     },
     "execution_count": 7,
     "metadata": {},
     "output_type": "execute_result"
    }
   ],
   "source": [
    "ds"
   ]
  },
  {
   "cell_type": "markdown",
   "metadata": {},
   "source": [
    "### Save to netcdf"
   ]
  },
  {
   "cell_type": "markdown",
   "metadata": {},
   "source": [
    "#### Rechunk and compression"
   ]
  },
  {
   "cell_type": "code",
   "execution_count": 8,
   "metadata": {},
   "outputs": [],
   "source": [
    "opts = {}\n",
    "for varname in ds.data_vars:\n",
    "    ds[varname] = ds[varname].chunk(chunks={'face':13,'j':90,'i':90})\n",
    "    opts[varname] = {'zlib': True}"
   ]
  },
  {
   "cell_type": "code",
   "execution_count": 9,
   "metadata": {},
   "outputs": [
    {
     "data": {
      "text/plain": [
       "<xarray.Dataset>\n",
       "Dimensions:           (face: 13, i: 90, j: 90)\n",
       "Coordinates:\n",
       "  * face              (face) int64 0 1 2 3 4 5 6 7 8 9 10 11 12\n",
       "  * j                 (j) int64 0 1 2 3 4 5 6 7 8 9 10 11 12 13 14 15 16 17 ...\n",
       "  * i                 (i) int64 0 1 2 3 4 5 6 7 8 9 10 11 12 13 14 15 16 17 ...\n",
       "Data variables:\n",
       "    frc               (face, j, i) float64 dask.array<shape=(13, 90, 90), chunksize=(13, 90, 90)>\n",
       "    hadv_Uanom_Tclim  (face, j, i) float64 dask.array<shape=(13, 90, 90), chunksize=(13, 90, 90)>\n",
       "    hadv_Uclim_Tanom  (face, j, i) float64 dask.array<shape=(13, 90, 90), chunksize=(13, 90, 90)>\n",
       "    res               (face, j, i) float64 dask.array<shape=(13, 90, 90), chunksize=(13, 90, 90)>\n",
       "    vadv_Uanom_Tclim  (face, j, i) float64 dask.array<shape=(13, 90, 90), chunksize=(13, 90, 90)>\n",
       "    vadv_Uclim_Tanom  (face, j, i) float64 dask.array<shape=(13, 90, 90), chunksize=(13, 90, 90)>\n",
       "    dif               (face, j, i) float64 dask.array<shape=(13, 90, 90), chunksize=(13, 90, 90)>\n",
       "    adv_Uanom_Tanom   (face, j, i) float64 dask.array<shape=(13, 90, 90), chunksize=(13, 90, 90)>"
      ]
     },
     "execution_count": 9,
     "metadata": {},
     "output_type": "execute_result"
    }
   ],
   "source": [
    "ds"
   ]
  },
  {
   "cell_type": "markdown",
   "metadata": {},
   "source": [
    "#### Save to file"
   ]
  },
  {
   "cell_type": "code",
   "execution_count": 10,
   "metadata": {},
   "outputs": [],
   "source": [
    "from dask.diagnostics import ProgressBar"
   ]
  },
  {
   "cell_type": "raw",
   "metadata": {},
   "source": [
    "# Tendencies\n",
    "with ProgressBar():\n",
    "    ds.to_netcdf('/rigel/ocp/users/jt2796/eccov4r3_datasets/anom/budgH_aveZ/corr/0700.nc',\n",
    "                 format='NETCDF4',encoding=opts)"
   ]
  },
  {
   "cell_type": "code",
   "execution_count": 12,
   "metadata": {},
   "outputs": [
    {
     "name": "stderr",
     "output_type": "stream",
     "text": [
      "/rigel/home/jt2796/dask/dask/utils.py:1010: UserWarning: Deprecated, see dask.base.get_scheduler instead\n",
      "  warnings.warn(\"Deprecated, see dask.base.get_scheduler instead\")\n"
     ]
    },
    {
     "name": "stdout",
     "output_type": "stream",
     "text": [
      "[                                        ] | 0% Completed |  2min 39.2s"
     ]
    },
    {
     "name": "stderr",
     "output_type": "stream",
     "text": [
      "/rigel/home/jt2796/miniconda/envs/default/lib/python3.6/site-packages/ipykernel_launcher.py:4: RuntimeWarning: invalid value encountered in double_scalars\n",
      "  after removing the cwd from sys.path.\n"
     ]
    },
    {
     "name": "stdout",
     "output_type": "stream",
     "text": [
      "[########################################] | 100% Completed | 43min 52.7s\n"
     ]
    }
   ],
   "source": [
    "# Integrated\n",
    "with ProgressBar():\n",
    "    ds.to_netcdf('/rigel/ocp/users/jt2796/eccov4r3_datasets/anom/budgH_aveZ/intT/corr/0700.nc',\n",
    "                 format='NETCDF4',encoding=opts)"
   ]
  },
  {
   "cell_type": "code",
   "execution_count": 11,
   "metadata": {},
   "outputs": [
    {
     "name": "stderr",
     "output_type": "stream",
     "text": [
      "/rigel/home/jt2796/dask/dask/utils.py:1010: UserWarning: Deprecated, see dask.base.get_scheduler instead\n",
      "  warnings.warn(\"Deprecated, see dask.base.get_scheduler instead\")\n"
     ]
    },
    {
     "name": "stdout",
     "output_type": "stream",
     "text": [
      "[                                        ] | 0% Completed |  2min 38.2s"
     ]
    },
    {
     "name": "stderr",
     "output_type": "stream",
     "text": [
      "/rigel/home/jt2796/miniconda/envs/default/lib/python3.6/site-packages/ipykernel_launcher.py:4: RuntimeWarning: invalid value encountered in double_scalars\n",
      "  after removing the cwd from sys.path.\n"
     ]
    },
    {
     "name": "stdout",
     "output_type": "stream",
     "text": [
      "[########################################] | 100% Completed | 44min 58.7s\n"
     ]
    }
   ],
   "source": [
    "# Integrated+Detrended\n",
    "with ProgressBar():\n",
    "    ds.to_netcdf('/rigel/ocp/users/jt2796/eccov4r3_datasets/anom/budgH_aveZ/intT/dtr/corr/0300.nc',\n",
    "                 format='NETCDF4',encoding=opts)"
   ]
  },
  {
   "cell_type": "markdown",
   "metadata": {},
   "source": [
    "### Check file"
   ]
  },
  {
   "cell_type": "code",
   "execution_count": 12,
   "metadata": {},
   "outputs": [],
   "source": [
    "# Open dataset from file\n",
    "ds_corr = xr.open_dataset('/rigel/ocp/users/jt2796/eccov4r3_datasets/anom/budgH_aveZ/intT/dtr/corr/0300.nc')"
   ]
  },
  {
   "cell_type": "code",
   "execution_count": 13,
   "metadata": {},
   "outputs": [
    {
     "data": {
      "text/plain": [
       "<xarray.Dataset>\n",
       "Dimensions:           (face: 13, i: 90, j: 90)\n",
       "Coordinates:\n",
       "  * face              (face) int64 0 1 2 3 4 5 6 7 8 9 10 11 12\n",
       "  * j                 (j) int64 0 1 2 3 4 5 6 7 8 9 10 11 12 13 14 15 16 17 ...\n",
       "  * i                 (i) int64 0 1 2 3 4 5 6 7 8 9 10 11 12 13 14 15 16 17 ...\n",
       "Data variables:\n",
       "    frc               (face, j, i) float64 ...\n",
       "    hadv_Uanom_Tclim  (face, j, i) float64 ...\n",
       "    hadv_Uclim_Tanom  (face, j, i) float64 ...\n",
       "    res               (face, j, i) float64 ...\n",
       "    vadv_Uanom_Tclim  (face, j, i) float64 ...\n",
       "    vadv_Uclim_Tanom  (face, j, i) float64 ...\n",
       "    dif               (face, j, i) float64 ...\n",
       "    adv_Uanom_Tanom   (face, j, i) float64 ..."
      ]
     },
     "execution_count": 13,
     "metadata": {},
     "output_type": "execute_result"
    }
   ],
   "source": [
    "ds_corr"
   ]
  },
  {
   "cell_type": "code",
   "execution_count": null,
   "metadata": {
    "collapsed": true
   },
   "outputs": [],
   "source": []
  }
 ],
 "metadata": {
  "kernelspec": {
   "display_name": "Python 3",
   "language": "python",
   "name": "python3"
  },
  "language_info": {
   "codemirror_mode": {
    "name": "ipython",
    "version": 3
   },
   "file_extension": ".py",
   "mimetype": "text/x-python",
   "name": "python",
   "nbconvert_exporter": "python",
   "pygments_lexer": "ipython3",
   "version": "3.6.5"
  }
 },
 "nbformat": 4,
 "nbformat_minor": 2
}
