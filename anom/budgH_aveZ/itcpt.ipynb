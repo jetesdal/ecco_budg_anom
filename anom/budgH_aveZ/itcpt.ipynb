{
 "cells": [
  {
   "cell_type": "code",
   "execution_count": 1,
   "metadata": {},
   "outputs": [],
   "source": [
    "import numpy as np\n",
    "import xarray as xr\n",
    "import dask\n",
    "import zarr"
   ]
  },
  {
   "cell_type": "markdown",
   "metadata": {},
   "source": [
    "### Load dataset"
   ]
  },
  {
   "cell_type": "code",
   "execution_count": 2,
   "metadata": {},
   "outputs": [],
   "source": [
    "ds_int = xr.open_zarr('/rigel/ocp/users/jt2796/eccov4r3_datasets/anom/budgH_aveZ/intT/0300m')"
   ]
  },
  {
   "cell_type": "markdown",
   "metadata": {},
   "source": [
    "### Find slope and intercept of linear trend"
   ]
  },
  {
   "cell_type": "code",
   "execution_count": 3,
   "metadata": {},
   "outputs": [],
   "source": [
    "def linear_fit(y,t):\n",
    "    y = y.reshape(-1)\n",
    "    return np.polyfit(t,y,1).reshape(1,1,1,-1)"
   ]
  },
  {
   "cell_type": "code",
   "execution_count": 4,
   "metadata": {},
   "outputs": [],
   "source": [
    "t = ds_int.time.astype(int)/1e9/3600/24/365.25"
   ]
  },
  {
   "cell_type": "code",
   "execution_count": 5,
   "metadata": {},
   "outputs": [],
   "source": [
    "ds_slope = xr.Dataset(data_vars={})\n",
    "ds_itcpt = xr.Dataset(data_vars={})\n",
    "\n",
    "for varname in ds_int.data_vars:\n",
    "    y = ds_int[varname].transpose('face','j','i','time').chunk(chunks=(1,1,1,-1))\n",
    "    fit = dask.array.map_blocks(linear_fit, y.data, t, dtype=np.float64, chunks=(1,1,1,2))\n",
    "    ds_slope[varname] = xr.DataArray(fit[:,:,:,0],coords=[ds_int.face,ds_int.j,ds_int.i],dims=['face','j','i'])\n",
    "    ds_itcpt[varname] = xr.DataArray(fit[:,:,:,1],coords=[ds_int.face,ds_int.j,ds_int.i],dims=['face','j','i'])"
   ]
  },
  {
   "cell_type": "markdown",
   "metadata": {},
   "source": [
    "### Save slope and intercept to netcdf"
   ]
  },
  {
   "cell_type": "code",
   "execution_count": 6,
   "metadata": {},
   "outputs": [
    {
     "data": {
      "text/plain": [
       "<xarray.Dataset>\n",
       "Dimensions:           (face: 13, i: 90, j: 90)\n",
       "Coordinates:\n",
       "  * face              (face) int64 0 1 2 3 4 5 6 7 8 9 10 11 12\n",
       "  * j                 (j) int64 0 1 2 3 4 5 6 7 8 9 10 11 12 13 14 15 16 17 ...\n",
       "  * i                 (i) int64 0 1 2 3 4 5 6 7 8 9 10 11 12 13 14 15 16 17 ...\n",
       "Data variables:\n",
       "    frc               (face, j, i) float64 dask.array<shape=(13, 90, 90), chunksize=(1, 1, 1)>\n",
       "    hadv_Uanom_Tanom  (face, j, i) float64 dask.array<shape=(13, 90, 90), chunksize=(1, 1, 1)>\n",
       "    hadv_Uanom_Tclim  (face, j, i) float64 dask.array<shape=(13, 90, 90), chunksize=(1, 1, 1)>\n",
       "    hadv_Uclim_Tanom  (face, j, i) float64 dask.array<shape=(13, 90, 90), chunksize=(1, 1, 1)>\n",
       "    hdif              (face, j, i) float64 dask.array<shape=(13, 90, 90), chunksize=(1, 1, 1)>\n",
       "    res               (face, j, i) float64 dask.array<shape=(13, 90, 90), chunksize=(1, 1, 1)>\n",
       "    tnd               (face, j, i) float64 dask.array<shape=(13, 90, 90), chunksize=(1, 1, 1)>\n",
       "    vadv_Uanom_Tanom  (face, j, i) float64 dask.array<shape=(13, 90, 90), chunksize=(1, 1, 1)>\n",
       "    vadv_Uanom_Tclim  (face, j, i) float64 dask.array<shape=(13, 90, 90), chunksize=(1, 1, 1)>\n",
       "    vadv_Uclim_Tanom  (face, j, i) float64 dask.array<shape=(13, 90, 90), chunksize=(1, 1, 1)>\n",
       "    vdif              (face, j, i) float64 dask.array<shape=(13, 90, 90), chunksize=(1, 1, 1)>"
      ]
     },
     "execution_count": 6,
     "metadata": {},
     "output_type": "execute_result"
    }
   ],
   "source": [
    "ds_itcpt"
   ]
  },
  {
   "cell_type": "markdown",
   "metadata": {},
   "source": [
    "#### Rechunk and compression"
   ]
  },
  {
   "cell_type": "code",
   "execution_count": 7,
   "metadata": {},
   "outputs": [],
   "source": [
    "opts = {}\n",
    "for varname in ds_itcpt.data_vars:\n",
    "    ds_itcpt[varname] = ds_itcpt[varname].chunk(chunks={'face':13,'j':90,'i':90})\n",
    "    opts[varname] = {'zlib': True}"
   ]
  },
  {
   "cell_type": "markdown",
   "metadata": {},
   "source": [
    "#### Save to file"
   ]
  },
  {
   "cell_type": "code",
   "execution_count": 8,
   "metadata": {},
   "outputs": [],
   "source": [
    "from dask.diagnostics import ProgressBar"
   ]
  },
  {
   "cell_type": "code",
   "execution_count": null,
   "metadata": {},
   "outputs": [
    {
     "name": "stderr",
     "output_type": "stream",
     "text": [
      "/rigel/home/jt2796/dask/dask/utils.py:1010: UserWarning: Deprecated, see dask.base.get_scheduler instead\n",
      "  warnings.warn(\"Deprecated, see dask.base.get_scheduler instead\")\n"
     ]
    },
    {
     "name": "stdout",
     "output_type": "stream",
     "text": [
      "[###                                     ] | 8% Completed |  1hr 23min 12.3s"
     ]
    }
   ],
   "source": [
    "with ProgressBar():\n",
    "    ds_itcpt.to_netcdf('/rigel/ocp/users/jt2796/eccov4r3_datasets/anom/budgH_aveZ/intT/linear_fit/itcpt/0300.nc',\n",
    "                       format='NETCDF4',encoding=opts)"
   ]
  },
  {
   "cell_type": "code",
   "execution_count": null,
   "metadata": {},
   "outputs": [],
   "source": []
  },
  {
   "cell_type": "code",
   "execution_count": 6,
   "metadata": {},
   "outputs": [],
   "source": [
    "# Linear trend dataset\n",
    "ds_trn = ds_itcpt + ds_slope*t"
   ]
  },
  {
   "cell_type": "code",
   "execution_count": 7,
   "metadata": {},
   "outputs": [],
   "source": [
    "# Detrended dataset\n",
    "ds_dtr = ds_int - ds_trn"
   ]
  },
  {
   "cell_type": "code",
   "execution_count": null,
   "metadata": {},
   "outputs": [],
   "source": []
  }
 ],
 "metadata": {
  "kernelspec": {
   "display_name": "Python 3",
   "language": "python",
   "name": "python3"
  },
  "language_info": {
   "codemirror_mode": {
    "name": "ipython",
    "version": 3
   },
   "file_extension": ".py",
   "mimetype": "text/x-python",
   "name": "python",
   "nbconvert_exporter": "python",
   "pygments_lexer": "ipython3",
   "version": "3.6.5"
  }
 },
 "nbformat": 4,
 "nbformat_minor": 2
}
